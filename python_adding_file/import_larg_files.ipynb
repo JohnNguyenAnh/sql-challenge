{
 "cells": [
  {
   "cell_type": "code",
   "execution_count": 16,
   "metadata": {},
   "outputs": [
    {
     "name": "stdout",
     "output_type": "stream",
     "text": [
      "Requirement already satisfied: psycopg2 in c:\\users\\johnn\\anaconda3\\lib\\site-packages (2.9.9)\n",
      "Note: you may need to restart the kernel to use updated packages.\n"
     ]
    }
   ],
   "source": [
    "pip install psycopg2\n"
   ]
  },
  {
   "cell_type": "code",
   "execution_count": 11,
   "metadata": {},
   "outputs": [],
   "source": [
    "import psycopg2\n",
    "import csv\n",
    "import datetime"
   ]
  },
  {
   "cell_type": "code",
   "execution_count": null,
   "metadata": {},
   "outputs": [],
   "source": [
    "conn = psycopg2.connect(\n",
    "    dbname=\"sql_challenge\", \n",
    "    user=\"postgres\", \n",
    "    password=\"postgres\", \n",
    "    host=\"127.0.0.1\"\n",
    ")\n",
    "cur = conn.cursor()\n",
    "\n",
    "try:\n",
    "    with open('C:/Users/johnn/OneDrive/Desktop/sql assignment/sql-challenge/EmployeeSQL/data/dept_emp.csv', 'r') as f:\n",
    "        reader = csv.reader(f)\n",
    "        next(reader)  # Skip the header row\n",
    "        for row in reader:\n",
    "            cur.execute(\"\"\"\n",
    "                INSERT INTO dept_emp (emp_no, dept_no)\n",
    "                VALUES (%s, %s)\n",
    "                ON CONFLICT (emp_no) DO NOTHING;\n",
    "                \"\"\", row)\n",
    "    conn.commit()  # Commit the transaction\n",
    "except psycopg2.Error as e:\n",
    "    print(\"An error occurred: \", e)\n",
    "    conn.rollback()  # Rollback the transaction on error\n",
    "finally:\n",
    "    cur.close()\n",
    "    conn.close()"
   ]
  },
  {
   "cell_type": "code",
   "execution_count": 14,
   "metadata": {},
   "outputs": [],
   "source": [
    "conn = psycopg2.connect(\n",
    "    dbname=\"sql_challenge\", \n",
    "    user=\"postgres\", \n",
    "    password=\"postgres\", \n",
    "    host=\"127.0.0.1\"\n",
    ")\n",
    "cur = conn.cursor()\n",
    "\n",
    "try:\n",
    "    with open('C:/Users/johnn/OneDrive/Desktop/sql assignment/sql-challenge/EmployeeSQL/data/employees.csv', 'r') as f:\n",
    "        reader = csv.reader(f)\n",
    "        next(reader)  # Skip the header row\n",
    "        for row in reader:\n",
    "            # Convert the date from MM/DD/YYYY to YYYY-MM-DD\n",
    "            birth_date = datetime.datetime.strptime(row[2], '%m/%d/%Y').strftime('%Y-%m-%d')\n",
    "            row[2] = birth_date  # Replace the original birth_date in the row with the converted date\n",
    "\n",
    "            # Convert the date from MM/DD/YYYY to YYYY-MM-DD\n",
    "            hire_date = datetime.datetime.strptime(row[6], '%m/%d/%Y').strftime('%Y-%m-%d')\n",
    "            row[6] = hire_date  # Replace the original hire_date in the row with the converted date\n",
    "\n",
    "            # Execute your INSERT statement\n",
    "            cur.execute(\"\"\"\n",
    "                INSERT INTO employees (emp_no, emp_title_id, birth_date, first_name, last_name, sex, hire_date)\n",
    "                VALUES (%s, %s, %s, %s, %s, %s, %s)\n",
    "                ON CONFLICT (emp_no) DO NOTHING;\n",
    "                \"\"\", row)\n",
    "    conn.commit()  # Commit the transaction\n",
    "except psycopg2.Error as e:\n",
    "    print(\"An error occurred: \", e)\n",
    "    conn.rollback()  # Rollback the transaction on error\n",
    "finally:\n",
    "    cur.close()\n",
    "    conn.close()"
   ]
  }
 ],
 "metadata": {
  "kernelspec": {
   "display_name": "base",
   "language": "python",
   "name": "python3"
  },
  "language_info": {
   "codemirror_mode": {
    "name": "ipython",
    "version": 3
   },
   "file_extension": ".py",
   "mimetype": "text/x-python",
   "name": "python",
   "nbconvert_exporter": "python",
   "pygments_lexer": "ipython3",
   "version": "3.11.5"
  }
 },
 "nbformat": 4,
 "nbformat_minor": 2
}
